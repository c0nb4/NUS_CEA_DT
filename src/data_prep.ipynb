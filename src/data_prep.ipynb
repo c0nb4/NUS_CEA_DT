{
 "cells": [
  {
   "cell_type": "code",
   "execution_count": 15,
   "metadata": {},
   "outputs": [],
   "source": [
    "import pandas as pd\n",
    "import os \n",
    "import json "
   ]
  },
  {
   "cell_type": "code",
   "execution_count": 16,
   "metadata": {},
   "outputs": [],
   "source": [
    "path_to_baseline = r'CEA_model\\2030_Baseline\\outputs\\data\\demand'\n",
    "path_to_reduced = r'CEA_model\\2030_ChangedTemp\\outputs\\data\\demand'\n",
    "path_dt_baseline = r'C:\\Users\\felix\\Programmieren\\UBEM_deckgl\\assets\\UBEM\\baseline'\n",
    "path_dt_reduced = r'C:\\Users\\felix\\Programmieren\\UBEM_deckgl\\assets\\UBEM\\reduced'\n",
    "buildings = [\"B1081.csv\", \"B1082.csv\", \"B1083.csv\", \"B1295.csv\"]\n"
   ]
  },
  {
   "cell_type": "markdown",
   "metadata": {},
   "source": [
    "## relevant data \n",
    "# GRID_kwh -> Electricity consumption from grid \n",
    "# Qcs_kWh -> Cooling energy"
   ]
  },
  {
   "cell_type": "code",
   "execution_count": 17,
   "metadata": {},
   "outputs": [],
   "source": [
    "if not os.path.isdir(path_dt_baseline):\n",
    "    os.mkdir(path_dt_baseline)\n",
    "for n, building in enumerate(buildings):\n",
    "    working_dir = os.path.dirname(os.getcwd())\n",
    "    path = os.path.join(working_dir, path_to_baseline, buildings[n])\n",
    "    building_nr = buildings[n].split(\".\")[0] \n",
    "    save_path = os.path.join(path_dt_baseline, building_nr + \"_heatmap.json\")\n",
    "    df = pd.read_csv(path)\n",
    "    # Extract date and hour\n",
    "    df['DATE'] = pd.to_datetime(df['DATE'])\n",
    "    df['date'] = df['DATE'].dt.date\n",
    "    df['hour'] = df['DATE'].dt.hour\n",
    "\n",
    "    # Group by date and hour, then aggregate 'GRID_kWh'\n",
    "    df['date'] = df['date'].apply(lambda x: x.strftime('%Y-%m-%d'))\n",
    "\n",
    "\n",
    "    data_structure_with_hours = {\n",
    "        \"GRID_kWh\": { \n",
    "            \"y\": df['hour'].unique().tolist(),\n",
    "            \"x\": df['date'].unique().tolist(),\n",
    "            \"z\": list()}\n",
    "    }\n",
    "    for date in df['hour'].unique():\n",
    "        data_structure_with_hours[\"GRID_kWh\"][\"z\"].append(df[df['hour'] == date]['GRID_kWh'].tolist())\n",
    "    with open(save_path, 'w') as f:\n",
    "        json.dump(data_structure_with_hours, f) "
   ]
  },
  {
   "cell_type": "code",
   "execution_count": 18,
   "metadata": {},
   "outputs": [],
   "source": [
    "if not os.path.isdir(path_dt_reduced):\n",
    "    os.mkdir(path_dt_reduced)\n",
    "for n, building in enumerate(buildings):\n",
    "    working_dir = os.path.dirname(os.getcwd())\n",
    "    path = os.path.join(working_dir, path_to_reduced, buildings[n])\n",
    "    building_nr = buildings[n].split(\".\")[0] \n",
    "    save_path = os.path.join(path_dt_reduced, building_nr + \"_heatmap.json\")\n",
    "    df = pd.read_csv(path)\n",
    "    # Extract date and hour\n",
    "    df['DATE'] = pd.to_datetime(df['DATE'])\n",
    "    df['date'] = df['DATE'].dt.date\n",
    "    df['hour'] = df['DATE'].dt.hour\n",
    "\n",
    "    # Group by date and hour, then aggregate 'GRID_kWh'\n",
    "    df['date'] = df['date'].apply(lambda x: x.strftime('%Y-%m-%d'))\n",
    "\n",
    "\n",
    "    data_structure_with_hours = {\n",
    "        \"GRID_kWh\": { \n",
    "            \"y\": df['hour'].unique().tolist(),\n",
    "            \"x\": df['date'].unique().tolist(),\n",
    "            \"z\": list()}\n",
    "    }\n",
    "    for date in df['hour'].unique():\n",
    "        data_structure_with_hours[\"GRID_kWh\"][\"z\"].append(df[df['hour'] == date]['GRID_kWh'].tolist())\n",
    "    with open(save_path, 'w') as f:\n",
    "        json.dump(data_structure_with_hours, f) "
   ]
  },
  {
   "cell_type": "code",
   "execution_count": null,
   "metadata": {},
   "outputs": [],
   "source": [
    "for n, building in enumerate(buildings):\n",
    "    working_dir = os.path.dirname(os.getcwd())\n",
    "    path = os.path.join(working_dir, path_to_reduced, buildings[n])\n",
    "    building_nr = buildings[n].split(\".\")[0] \n",
    "    save_path = os.path.join(path_dt_reduced, building_nr + \"_ts.json\")\n",
    "    df = pd.read_csv(path)\n",
    "    # df['DATE'] = pd.to_datetime(df['DATE'])\n",
    "    data_structure_with_hours = {\n",
    "        \"Qcs_kWh\": { \n",
    "            \"y\": df['Qcs_kWh'].tolist(),\n",
    "            \"x\": df['DATE'].tolist()\n",
    "        },\n",
    "        \"T_ext_C\": {\n",
    "            \"y\": df['T_ext_C'].tolist(),\n",
    "            \"x\": df['DATE'].tolist()\n",
    "        },\n",
    "        'T_int_C': {\n",
    "            \"y\": df['T_int_C'].tolist(),\n",
    "            \"x\": df['DATE'].tolist()\n",
    "        }\n",
    "    }\n",
    "    with open(save_path, 'w') as f:\n",
    "        json.dump(data_structure_with_hours, f) "
   ]
  },
  {
   "cell_type": "code",
   "execution_count": null,
   "metadata": {},
   "outputs": [],
   "source": [
    "for n, building in enumerate(buildings):\n",
    "    working_dir = os.path.dirname(os.getcwd())\n",
    "    path = os.path.join(working_dir, path_to_baseline, buildings[n])\n",
    "    building_nr = buildings[n].split(\".\")[0] \n",
    "    save_path = os.path.join(path_dt_baseline, building_nr + \"_ts.json\")\n",
    "    df = pd.read_csv(path)\n",
    "    # df['DATE'] = pd.to_datetime(df['DATE'])\n",
    "    data_structure_with_hours = {\n",
    "        \"Qcs_kWh\": { \n",
    "            \"y\": df['Qcs_kWh'].tolist(),\n",
    "            \"x\": df['DATE'].tolist()\n",
    "        },\n",
    "        \"T_ext_C\": {\n",
    "            \"y\": df['T_ext_C'].tolist(),\n",
    "            \"x\": df['DATE'].tolist()\n",
    "        },\n",
    "        'T_int_C': {\n",
    "            \"y\": df['T_int_C'].tolist(),\n",
    "            \"x\": df['DATE'].tolist()\n",
    "        }\n",
    "    }\n",
    "    with open(save_path, 'w') as f:\n",
    "        json.dump(data_structure_with_hours, f) "
   ]
  }
 ],
 "metadata": {
  "kernelspec": {
   "display_name": "venv",
   "language": "python",
   "name": "python3"
  },
  "language_info": {
   "codemirror_mode": {
    "name": "ipython",
    "version": 3
   },
   "file_extension": ".py",
   "mimetype": "text/x-python",
   "name": "python",
   "nbconvert_exporter": "python",
   "pygments_lexer": "ipython3",
   "version": "3.12.1"
  }
 },
 "nbformat": 4,
 "nbformat_minor": 2
}
